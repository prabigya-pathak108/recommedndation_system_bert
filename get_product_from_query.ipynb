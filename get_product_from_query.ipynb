{
 "cells": [
  {
   "cell_type": "code",
   "execution_count": 1,
   "metadata": {},
   "outputs": [],
   "source": [
    "from langchain_core.embeddings import Embeddings\n",
    "from typing import Any, Dict, List, Optional\n",
    "# from sentence_transformers import SentenceTransformer\n",
    "import warnings\n",
    "import logging\n",
    "logging.getLogger('sqlalchemy.engine').setLevel(logging.WARNING)\n",
    "warnings.filterwarnings(\"ignore\")\n",
    "\n",
    "from IPython.display import clear_output\n",
    "clear_output()\n"
   ]
  },
  {
   "cell_type": "code",
   "execution_count": 3,
   "metadata": {},
   "outputs": [],
   "source": [
    "from models.UsersModel import UsersModel\n",
    "from database import get_db\n",
    "from services.llm_chains import get_related_products\n",
    "from services.find_similar import find_similar_product\n",
    "from langchain.vectorstores import FAISS\n"
   ]
  },
  {
   "cell_type": "code",
   "execution_count": 35,
   "metadata": {},
   "outputs": [],
   "source": [
    "class FineTunedHuggingFaceModel(Embeddings):\n",
    "    def __init__(self, model_name: str):\n",
    "        \"\"\"Initialize with the model name or path.\"\"\"\n",
    "        self.model_name = model_name\n",
    "        self.model = SentenceTransformer(model_name, device=\"cpu\")\n",
    "\n",
    "    def embed_documents(self, texts: List[str]) -> List[List[float]]:\n",
    "        # Get the embeddings for the documents\n",
    "        embeddings = self.model.encode(texts, convert_to_tensor=True)\n",
    "\n",
    "        # Convert the tensor embeddings into a list of lists (each inner list represents an embedding)\n",
    "        return embeddings.cpu().numpy().tolist()\n",
    "\n",
    "    def embed_query(self, text: str) -> List[float]:\n",
    "        return self.embed_documents([text])[0]\n",
    "    \n",
    "\n",
    "model_dir=r\"C:\\Users\\prabigya\\Desktop\\work_here\\Recommendo-Personalized-Shopping-Powered-by-LLMs\\bge_models_weights\"\n",
    "fine_tuned_model = SentenceTransformer(\n",
    "    model_dir, device=\"cpu\")\n",
    "embeddings=FineTunedHuggingFaceModel(model_name=model_dir)"
   ]
  },
  {
   "cell_type": "code",
   "execution_count": 4,
   "metadata": {},
   "outputs": [
    {
     "name": "stdout",
     "output_type": "stream",
     "text": [
      "User Query:  Give me best mobile phone with minimum 4GB ram and 4200mAh batter.\n",
      "Result Obtained: \n",
      " Empty DataFrame\n",
      "Columns: [model, brand_name, price, avg_rating]\n",
      "Index: []\n"
     ]
    }
   ],
   "source": [
    "def get_similar_product_from_query(query):\n",
    "    result=get_related_products(query)\n",
    "    print(result)\n",
    "    result={\"model\":result.get(\"model\",{}).get(\"value\",[])}\n",
    "    new_res=find_similar_product(result)\n",
    "    return new_res\n",
    "\n",
    "query=\"Give me best mobile phone with minimum 4GB ram and 4200mAh batter.\"\n",
    "result=get_similar_product_from_query(query)\n",
    "clear_output()\n",
    "print(\"User Query: \",query)\n",
    "print(\"Result Obtained: \\n\",result)"
   ]
  },
  {
   "cell_type": "code",
   "execution_count": null,
   "metadata": {},
   "outputs": [],
   "source": [
    "\n",
    "output_vector_loc=r\"C:\\Users\\prabigya\\Desktop\\work_here\\Recommendo-Personalized-Shopping-Powered-by-LLMs\\recommendation_system_ecommerce\\dataset\\vector_store\"\n",
    "loaded_vector_store = FAISS.load_local(output_vector_loc,embeddings,allow_dangerous_deserialization=True)"
   ]
  },
  {
   "cell_type": "code",
   "execution_count": 65,
   "metadata": {},
   "outputs": [
    {
     "data": {
      "text/html": [
       "<pre style=\"white-space:pre;overflow-x:auto;line-height:normal;font-family:Menlo,'DejaVu Sans Mono',consolas,'Courier New',monospace\">User Id:  <span style=\"color: #008080; text-decoration-color: #008080; font-weight: bold\">190</span>\n",
       "</pre>\n"
      ],
      "text/plain": [
       "User Id:  \u001b[1;36m190\u001b[0m\n"
      ]
     },
     "metadata": {},
     "output_type": "display_data"
    },
    {
     "data": {
      "text/html": [
       "<pre style=\"white-space:pre;overflow-x:auto;line-height:normal;font-family:Menlo,'DejaVu Sans Mono',consolas,'Courier New',monospace\">User Preference and Likes:  school supplies, cameras, mobiles, Appliances\n",
       "</pre>\n"
      ],
      "text/plain": [
       "User Preference and Likes:  school supplies, cameras, mobiles, Appliances\n"
      ]
     },
     "metadata": {},
     "output_type": "display_data"
    },
    {
     "data": {
      "text/html": [
       "<pre style=\"white-space:pre;overflow-x:auto;line-height:normal;font-family:Menlo,'DejaVu Sans Mono',consolas,'Courier New',monospace\">Recommeded Product: \n",
       "<span style=\"font-weight: bold\">[</span>\n",
       "    <span style=\"color: #008000; text-decoration-color: #008000\">'Slb 020Rp 10 L Backpack'</span>,\n",
       "    <span style=\"color: #008000; text-decoration-color: #008000\">'United Bags Cross Chain 35 L Medium Laptop Backpack'</span>,\n",
       "    <span style=\"color: #008000; text-decoration-color: #008000\">'Mobiware Mw4P Mobiware 4000 Mah Pocket Powerbank 4000 Mah'</span>,\n",
       "    <span style=\"color: #008000; text-decoration-color: #008000\">'Hp 15-Ac116Tx (Notebook) (Core I3 (5Th Gen)/ 4Gb/ 1Tb/ Win10/ 2Gb Graph) (N8M19Pa)'</span>\n",
       "<span style=\"font-weight: bold\">]</span>\n",
       "</pre>\n"
      ],
      "text/plain": [
       "Recommeded Product: \n",
       "\u001b[1m[\u001b[0m\n",
       "    \u001b[32m'Slb 020Rp 10 L Backpack'\u001b[0m,\n",
       "    \u001b[32m'United Bags Cross Chain 35 L Medium Laptop Backpack'\u001b[0m,\n",
       "    \u001b[32m'Mobiware Mw4P Mobiware 4000 Mah Pocket Powerbank 4000 Mah'\u001b[0m,\n",
       "    \u001b[32m'Hp 15-Ac116Tx \u001b[0m\u001b[32m(\u001b[0m\u001b[32mNotebook\u001b[0m\u001b[32m)\u001b[0m\u001b[32m \u001b[0m\u001b[32m(\u001b[0m\u001b[32mCore I3 \u001b[0m\u001b[32m(\u001b[0m\u001b[32m5Th Gen\u001b[0m\u001b[32m)\u001b[0m\u001b[32m/ 4Gb/ 1Tb/ Win10/ 2Gb Graph\u001b[0m\u001b[32m)\u001b[0m\u001b[32m \u001b[0m\u001b[32m(\u001b[0m\u001b[32mN8M19Pa\u001b[0m\u001b[32m)\u001b[0m\u001b[32m'\u001b[0m\n",
       "\u001b[1m]\u001b[0m\n"
      ]
     },
     "metadata": {},
     "output_type": "display_data"
    }
   ],
   "source": [
    "def get_recommendations(data):\n",
    "    user_id=data[\"user_id\"]\n",
    "    db = next(get_db())\n",
    "    user = db.query(UsersModel).filter(UsersModel.id == user_id).first()\n",
    "    # user = db.query(UsersModel).all()\n",
    "\n",
    "    query = f\"User preference: {user.likes}\"\n",
    "    results = loaded_vector_store.similarity_search_with_score(query,k=4)\n",
    "    # Check similarity scores and proceed if greater than threshold\n",
    "    recommeded_product=[]\n",
    "    for result, score in results:\n",
    "        recommeded_product.append(result.metadata.get(\"product_name\",\"\"))\n",
    "    return user_id,user.likes,recommeded_product\n",
    "\n",
    "data = {\"user_id\": 190}\n",
    "user_id,user_likes,recommeded_products=get_recommendations(data)\n",
    "clear_output()\n",
    "\n",
    "print(\"User Id: \",user_id)\n",
    "print(\"User Preference and Likes: \",user_likes)\n",
    "print(\"Recommeded Product: \",recommeded_products)"
   ]
  },
  {
   "cell_type": "code",
   "execution_count": null,
   "metadata": {},
   "outputs": [],
   "source": []
  }
 ],
 "metadata": {
  "kernelspec": {
   "display_name": "recommend_venv",
   "language": "python",
   "name": "python3"
  },
  "language_info": {
   "codemirror_mode": {
    "name": "ipython",
    "version": 3
   },
   "file_extension": ".py",
   "mimetype": "text/x-python",
   "name": "python",
   "nbconvert_exporter": "python",
   "pygments_lexer": "ipython3",
   "version": "3.11.1"
  }
 },
 "nbformat": 4,
 "nbformat_minor": 2
}
